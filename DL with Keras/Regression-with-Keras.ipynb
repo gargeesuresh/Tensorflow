{
 "cells": [
  {
   "cell_type": "markdown",
   "metadata": {
    "button": false,
    "new_sheet": false,
    "run_control": {
     "read_only": false
    }
   },
   "source": [
    "<a href=\"https://cognitiveclass.ai\"><img src = \"https://s3-api.us-geo.objectstorage.softlayer.net/cf-courses-data/CognitiveClass/Logos/organization_logo/organization_logo.png\" width = 400> </a>\n",
    "\n",
    "<h1 align=center><font size = 5>Regression Models with Keras</font></h1>\n"
   ]
  },
  {
   "cell_type": "markdown",
   "metadata": {
    "button": false,
    "new_sheet": false,
    "run_control": {
     "read_only": false
    }
   },
   "source": [
    "## Introduction\n"
   ]
  },
  {
   "cell_type": "markdown",
   "metadata": {
    "button": false,
    "new_sheet": false,
    "run_control": {
     "read_only": false
    }
   },
   "source": [
    "As we discussed in the videos, despite the popularity of more powerful libraries such as PyToch and TensorFlow, they are not easy to use and have a steep learning curve. So, for people who are just starting to learn deep learning, there is no better library to use other than the Keras library. \n",
    "\n",
    "Keras is a high-level API for building deep learning models. It has gained favor for its ease of use and syntactic simplicity facilitating fast development. As you will see in this lab and the other labs in this course, building a very complex deep learning network can be achieved with Keras with only few lines of code. You will appreciate Keras even more, once you learn how to build deep models using PyTorch and TensorFlow in the other courses.\n",
    "\n",
    "So, in this lab, you will learn how to use the Keras library to build a regression model.\n"
   ]
  },
  {
   "cell_type": "markdown",
   "metadata": {},
   "source": [
    "<h2>Regression Models with Keras</h2>\n",
    "\n",
    "<h3>Objective for this Notebook<h3>    \n",
    "<h5> 1. How to use the Keras library to build a regression model.</h5>\n",
    "<h5> 2. Download and Clean dataset </h5>\n",
    "<h5> 3. Build a Neural Network </h5>\n",
    "<h5> 4. Train and Test the Network. </h5>     \n"
   ]
  },
  {
   "cell_type": "markdown",
   "metadata": {
    "button": false,
    "new_sheet": false,
    "run_control": {
     "read_only": false
    }
   },
   "source": [
    "## Table of Contents\n",
    "\n",
    "<div class=\"alert alert-block alert-info\" style=\"margin-top: 20px\">\n",
    "\n",
    "<font size = 3>\n",
    "    \n",
    "1. <a href=\"#item31\">Download and Clean Dataset</a>  \n",
    "2. <a href=\"#item32\">Import Keras</a>  \n",
    "3. <a href=\"#item33\">Build a Neural Network</a>  \n",
    "4. <a href=\"#item34\">Train and Test the Network</a>  \n",
    "\n",
    "</font>\n",
    "</div>\n"
   ]
  },
  {
   "cell_type": "markdown",
   "metadata": {
    "button": false,
    "new_sheet": false,
    "run_control": {
     "read_only": false
    }
   },
   "source": [
    "<a id=\"item31\"></a>\n"
   ]
  },
  {
   "cell_type": "markdown",
   "metadata": {
    "button": false,
    "new_sheet": false,
    "run_control": {
     "read_only": false
    }
   },
   "source": [
    "## Download and Clean Dataset\n"
   ]
  },
  {
   "cell_type": "markdown",
   "metadata": {
    "button": false,
    "new_sheet": false,
    "run_control": {
     "read_only": false
    }
   },
   "source": [
    "Let's start by importing the <em>pandas</em> and the Numpy libraries.\n"
   ]
  },
  {
   "cell_type": "code",
   "execution_count": 1,
   "metadata": {
    "button": false,
    "new_sheet": false,
    "run_control": {
     "read_only": false
    }
   },
   "outputs": [],
   "source": [
    "import pandas as pd\n",
    "import numpy as np"
   ]
  },
  {
   "cell_type": "markdown",
   "metadata": {
    "button": false,
    "new_sheet": false,
    "run_control": {
     "read_only": false
    }
   },
   "source": [
    "We will be playing around with the same dataset that we used in the videos.\n",
    "\n",
    "<strong>The dataset is about the compressive strength of different samples of concrete based on the volumes of the different ingredients that were used to make them. Ingredients include:</strong>\n",
    "\n",
    "<strong>1. Cement</strong>\n",
    "\n",
    "<strong>2. Blast Furnace Slag</strong>\n",
    "\n",
    "<strong>3. Fly Ash</strong>\n",
    "\n",
    "<strong>4. Water</strong>\n",
    "\n",
    "<strong>5. Superplasticizer</strong>\n",
    "\n",
    "<strong>6. Coarse Aggregate</strong>\n",
    "\n",
    "<strong>7. Fine Aggregate</strong>\n"
   ]
  },
  {
   "cell_type": "markdown",
   "metadata": {
    "button": false,
    "new_sheet": false,
    "run_control": {
     "read_only": false
    }
   },
   "source": [
    "Let's download the data and read it into a <em>pandas</em> dataframe.\n"
   ]
  },
  {
   "cell_type": "code",
   "execution_count": 2,
   "metadata": {
    "button": false,
    "new_sheet": false,
    "run_control": {
     "read_only": false
    },
    "scrolled": true
   },
   "outputs": [
    {
     "data": {
      "text/html": [
       "<div>\n",
       "<style scoped>\n",
       "    .dataframe tbody tr th:only-of-type {\n",
       "        vertical-align: middle;\n",
       "    }\n",
       "\n",
       "    .dataframe tbody tr th {\n",
       "        vertical-align: top;\n",
       "    }\n",
       "\n",
       "    .dataframe thead th {\n",
       "        text-align: right;\n",
       "    }\n",
       "</style>\n",
       "<table border=\"1\" class=\"dataframe\">\n",
       "  <thead>\n",
       "    <tr style=\"text-align: right;\">\n",
       "      <th></th>\n",
       "      <th>Cement</th>\n",
       "      <th>Blast Furnace Slag</th>\n",
       "      <th>Fly Ash</th>\n",
       "      <th>Water</th>\n",
       "      <th>Superplasticizer</th>\n",
       "      <th>Coarse Aggregate</th>\n",
       "      <th>Fine Aggregate</th>\n",
       "      <th>Age</th>\n",
       "      <th>Strength</th>\n",
       "    </tr>\n",
       "  </thead>\n",
       "  <tbody>\n",
       "    <tr>\n",
       "      <th>0</th>\n",
       "      <td>540.0</td>\n",
       "      <td>0.0</td>\n",
       "      <td>0.0</td>\n",
       "      <td>162.0</td>\n",
       "      <td>2.5</td>\n",
       "      <td>1040.0</td>\n",
       "      <td>676.0</td>\n",
       "      <td>28</td>\n",
       "      <td>79.99</td>\n",
       "    </tr>\n",
       "    <tr>\n",
       "      <th>1</th>\n",
       "      <td>540.0</td>\n",
       "      <td>0.0</td>\n",
       "      <td>0.0</td>\n",
       "      <td>162.0</td>\n",
       "      <td>2.5</td>\n",
       "      <td>1055.0</td>\n",
       "      <td>676.0</td>\n",
       "      <td>28</td>\n",
       "      <td>61.89</td>\n",
       "    </tr>\n",
       "    <tr>\n",
       "      <th>2</th>\n",
       "      <td>332.5</td>\n",
       "      <td>142.5</td>\n",
       "      <td>0.0</td>\n",
       "      <td>228.0</td>\n",
       "      <td>0.0</td>\n",
       "      <td>932.0</td>\n",
       "      <td>594.0</td>\n",
       "      <td>270</td>\n",
       "      <td>40.27</td>\n",
       "    </tr>\n",
       "    <tr>\n",
       "      <th>3</th>\n",
       "      <td>332.5</td>\n",
       "      <td>142.5</td>\n",
       "      <td>0.0</td>\n",
       "      <td>228.0</td>\n",
       "      <td>0.0</td>\n",
       "      <td>932.0</td>\n",
       "      <td>594.0</td>\n",
       "      <td>365</td>\n",
       "      <td>41.05</td>\n",
       "    </tr>\n",
       "    <tr>\n",
       "      <th>4</th>\n",
       "      <td>198.6</td>\n",
       "      <td>132.4</td>\n",
       "      <td>0.0</td>\n",
       "      <td>192.0</td>\n",
       "      <td>0.0</td>\n",
       "      <td>978.4</td>\n",
       "      <td>825.5</td>\n",
       "      <td>360</td>\n",
       "      <td>44.30</td>\n",
       "    </tr>\n",
       "    <tr>\n",
       "      <th>...</th>\n",
       "      <td>...</td>\n",
       "      <td>...</td>\n",
       "      <td>...</td>\n",
       "      <td>...</td>\n",
       "      <td>...</td>\n",
       "      <td>...</td>\n",
       "      <td>...</td>\n",
       "      <td>...</td>\n",
       "      <td>...</td>\n",
       "    </tr>\n",
       "    <tr>\n",
       "      <th>1025</th>\n",
       "      <td>276.4</td>\n",
       "      <td>116.0</td>\n",
       "      <td>90.3</td>\n",
       "      <td>179.6</td>\n",
       "      <td>8.9</td>\n",
       "      <td>870.1</td>\n",
       "      <td>768.3</td>\n",
       "      <td>28</td>\n",
       "      <td>44.28</td>\n",
       "    </tr>\n",
       "    <tr>\n",
       "      <th>1026</th>\n",
       "      <td>322.2</td>\n",
       "      <td>0.0</td>\n",
       "      <td>115.6</td>\n",
       "      <td>196.0</td>\n",
       "      <td>10.4</td>\n",
       "      <td>817.9</td>\n",
       "      <td>813.4</td>\n",
       "      <td>28</td>\n",
       "      <td>31.18</td>\n",
       "    </tr>\n",
       "    <tr>\n",
       "      <th>1027</th>\n",
       "      <td>148.5</td>\n",
       "      <td>139.4</td>\n",
       "      <td>108.6</td>\n",
       "      <td>192.7</td>\n",
       "      <td>6.1</td>\n",
       "      <td>892.4</td>\n",
       "      <td>780.0</td>\n",
       "      <td>28</td>\n",
       "      <td>23.70</td>\n",
       "    </tr>\n",
       "    <tr>\n",
       "      <th>1028</th>\n",
       "      <td>159.1</td>\n",
       "      <td>186.7</td>\n",
       "      <td>0.0</td>\n",
       "      <td>175.6</td>\n",
       "      <td>11.3</td>\n",
       "      <td>989.6</td>\n",
       "      <td>788.9</td>\n",
       "      <td>28</td>\n",
       "      <td>32.77</td>\n",
       "    </tr>\n",
       "    <tr>\n",
       "      <th>1029</th>\n",
       "      <td>260.9</td>\n",
       "      <td>100.5</td>\n",
       "      <td>78.3</td>\n",
       "      <td>200.6</td>\n",
       "      <td>8.6</td>\n",
       "      <td>864.5</td>\n",
       "      <td>761.5</td>\n",
       "      <td>28</td>\n",
       "      <td>32.40</td>\n",
       "    </tr>\n",
       "  </tbody>\n",
       "</table>\n",
       "<p>1030 rows × 9 columns</p>\n",
       "</div>"
      ],
      "text/plain": [
       "      Cement  Blast Furnace Slag  Fly Ash  Water  Superplasticizer  \\\n",
       "0      540.0                 0.0      0.0  162.0               2.5   \n",
       "1      540.0                 0.0      0.0  162.0               2.5   \n",
       "2      332.5               142.5      0.0  228.0               0.0   \n",
       "3      332.5               142.5      0.0  228.0               0.0   \n",
       "4      198.6               132.4      0.0  192.0               0.0   \n",
       "...      ...                 ...      ...    ...               ...   \n",
       "1025   276.4               116.0     90.3  179.6               8.9   \n",
       "1026   322.2                 0.0    115.6  196.0              10.4   \n",
       "1027   148.5               139.4    108.6  192.7               6.1   \n",
       "1028   159.1               186.7      0.0  175.6              11.3   \n",
       "1029   260.9               100.5     78.3  200.6               8.6   \n",
       "\n",
       "      Coarse Aggregate  Fine Aggregate  Age  Strength  \n",
       "0               1040.0           676.0   28     79.99  \n",
       "1               1055.0           676.0   28     61.89  \n",
       "2                932.0           594.0  270     40.27  \n",
       "3                932.0           594.0  365     41.05  \n",
       "4                978.4           825.5  360     44.30  \n",
       "...                ...             ...  ...       ...  \n",
       "1025             870.1           768.3   28     44.28  \n",
       "1026             817.9           813.4   28     31.18  \n",
       "1027             892.4           780.0   28     23.70  \n",
       "1028             989.6           788.9   28     32.77  \n",
       "1029             864.5           761.5   28     32.40  \n",
       "\n",
       "[1030 rows x 9 columns]"
      ]
     },
     "execution_count": 2,
     "metadata": {},
     "output_type": "execute_result"
    }
   ],
   "source": [
    "concrete_data = pd.read_csv('https://s3-api.us-geo.objectstorage.softlayer.net/cf-courses-data/CognitiveClass/DL0101EN/labs/data/concrete_data.csv')\n",
    "concrete_data"
   ]
  },
  {
   "cell_type": "markdown",
   "metadata": {
    "button": false,
    "new_sheet": false,
    "run_control": {
     "read_only": false
    }
   },
   "source": [
    "So the first concrete sample has 540 cubic meter of cement, 0 cubic meter of blast furnace slag, 0 cubic meter of fly ash, 162 cubic meter of water, 2.5 cubic meter of superplaticizer, 1040 cubic meter of coarse aggregate, 676 cubic meter of fine aggregate. Such a concrete mix which is 28 days old, has a compressive strength of 79.99 MPa. \n"
   ]
  },
  {
   "cell_type": "markdown",
   "metadata": {
    "button": false,
    "new_sheet": false,
    "run_control": {
     "read_only": false
    }
   },
   "source": [
    "#### Let's check how many data points we have.\n"
   ]
  },
  {
   "cell_type": "code",
   "execution_count": 3,
   "metadata": {
    "button": false,
    "new_sheet": false,
    "run_control": {
     "read_only": false
    }
   },
   "outputs": [
    {
     "data": {
      "text/plain": [
       "(1030, 9)"
      ]
     },
     "execution_count": 3,
     "metadata": {},
     "output_type": "execute_result"
    }
   ],
   "source": [
    "concrete_data.shape"
   ]
  },
  {
   "cell_type": "markdown",
   "metadata": {
    "button": false,
    "new_sheet": false,
    "run_control": {
     "read_only": false
    }
   },
   "source": [
    "So, there are approximately 1000 samples to train our model on. Because of the few samples, we have to be careful not to overfit the training data.\n"
   ]
  },
  {
   "cell_type": "markdown",
   "metadata": {
    "button": false,
    "new_sheet": false,
    "run_control": {
     "read_only": false
    }
   },
   "source": [
    "Let's check the dataset for any missing values.\n"
   ]
  },
  {
   "cell_type": "code",
   "execution_count": 5,
   "metadata": {
    "button": false,
    "new_sheet": false,
    "run_control": {
     "read_only": false
    }
   },
   "outputs": [
    {
     "data": {
      "text/html": [
       "<div>\n",
       "<style scoped>\n",
       "    .dataframe tbody tr th:only-of-type {\n",
       "        vertical-align: middle;\n",
       "    }\n",
       "\n",
       "    .dataframe tbody tr th {\n",
       "        vertical-align: top;\n",
       "    }\n",
       "\n",
       "    .dataframe thead th {\n",
       "        text-align: right;\n",
       "    }\n",
       "</style>\n",
       "<table border=\"1\" class=\"dataframe\">\n",
       "  <thead>\n",
       "    <tr style=\"text-align: right;\">\n",
       "      <th></th>\n",
       "      <th>Cement</th>\n",
       "      <th>Blast Furnace Slag</th>\n",
       "      <th>Fly Ash</th>\n",
       "      <th>Water</th>\n",
       "      <th>Superplasticizer</th>\n",
       "      <th>Coarse Aggregate</th>\n",
       "      <th>Fine Aggregate</th>\n",
       "      <th>Age</th>\n",
       "      <th>Strength</th>\n",
       "    </tr>\n",
       "  </thead>\n",
       "  <tbody>\n",
       "    <tr>\n",
       "      <th>count</th>\n",
       "      <td>1030.000000</td>\n",
       "      <td>1030.000000</td>\n",
       "      <td>1030.000000</td>\n",
       "      <td>1030.000000</td>\n",
       "      <td>1030.000000</td>\n",
       "      <td>1030.000000</td>\n",
       "      <td>1030.000000</td>\n",
       "      <td>1030.000000</td>\n",
       "      <td>1030.000000</td>\n",
       "    </tr>\n",
       "    <tr>\n",
       "      <th>mean</th>\n",
       "      <td>281.167864</td>\n",
       "      <td>73.895825</td>\n",
       "      <td>54.188350</td>\n",
       "      <td>181.567282</td>\n",
       "      <td>6.204660</td>\n",
       "      <td>972.918932</td>\n",
       "      <td>773.580485</td>\n",
       "      <td>45.662136</td>\n",
       "      <td>35.817961</td>\n",
       "    </tr>\n",
       "    <tr>\n",
       "      <th>std</th>\n",
       "      <td>104.506364</td>\n",
       "      <td>86.279342</td>\n",
       "      <td>63.997004</td>\n",
       "      <td>21.354219</td>\n",
       "      <td>5.973841</td>\n",
       "      <td>77.753954</td>\n",
       "      <td>80.175980</td>\n",
       "      <td>63.169912</td>\n",
       "      <td>16.705742</td>\n",
       "    </tr>\n",
       "    <tr>\n",
       "      <th>min</th>\n",
       "      <td>102.000000</td>\n",
       "      <td>0.000000</td>\n",
       "      <td>0.000000</td>\n",
       "      <td>121.800000</td>\n",
       "      <td>0.000000</td>\n",
       "      <td>801.000000</td>\n",
       "      <td>594.000000</td>\n",
       "      <td>1.000000</td>\n",
       "      <td>2.330000</td>\n",
       "    </tr>\n",
       "    <tr>\n",
       "      <th>25%</th>\n",
       "      <td>192.375000</td>\n",
       "      <td>0.000000</td>\n",
       "      <td>0.000000</td>\n",
       "      <td>164.900000</td>\n",
       "      <td>0.000000</td>\n",
       "      <td>932.000000</td>\n",
       "      <td>730.950000</td>\n",
       "      <td>7.000000</td>\n",
       "      <td>23.710000</td>\n",
       "    </tr>\n",
       "    <tr>\n",
       "      <th>50%</th>\n",
       "      <td>272.900000</td>\n",
       "      <td>22.000000</td>\n",
       "      <td>0.000000</td>\n",
       "      <td>185.000000</td>\n",
       "      <td>6.400000</td>\n",
       "      <td>968.000000</td>\n",
       "      <td>779.500000</td>\n",
       "      <td>28.000000</td>\n",
       "      <td>34.445000</td>\n",
       "    </tr>\n",
       "    <tr>\n",
       "      <th>75%</th>\n",
       "      <td>350.000000</td>\n",
       "      <td>142.950000</td>\n",
       "      <td>118.300000</td>\n",
       "      <td>192.000000</td>\n",
       "      <td>10.200000</td>\n",
       "      <td>1029.400000</td>\n",
       "      <td>824.000000</td>\n",
       "      <td>56.000000</td>\n",
       "      <td>46.135000</td>\n",
       "    </tr>\n",
       "    <tr>\n",
       "      <th>max</th>\n",
       "      <td>540.000000</td>\n",
       "      <td>359.400000</td>\n",
       "      <td>200.100000</td>\n",
       "      <td>247.000000</td>\n",
       "      <td>32.200000</td>\n",
       "      <td>1145.000000</td>\n",
       "      <td>992.600000</td>\n",
       "      <td>365.000000</td>\n",
       "      <td>82.600000</td>\n",
       "    </tr>\n",
       "  </tbody>\n",
       "</table>\n",
       "</div>"
      ],
      "text/plain": [
       "            Cement  Blast Furnace Slag      Fly Ash        Water  \\\n",
       "count  1030.000000         1030.000000  1030.000000  1030.000000   \n",
       "mean    281.167864           73.895825    54.188350   181.567282   \n",
       "std     104.506364           86.279342    63.997004    21.354219   \n",
       "min     102.000000            0.000000     0.000000   121.800000   \n",
       "25%     192.375000            0.000000     0.000000   164.900000   \n",
       "50%     272.900000           22.000000     0.000000   185.000000   \n",
       "75%     350.000000          142.950000   118.300000   192.000000   \n",
       "max     540.000000          359.400000   200.100000   247.000000   \n",
       "\n",
       "       Superplasticizer  Coarse Aggregate  Fine Aggregate          Age  \\\n",
       "count       1030.000000       1030.000000     1030.000000  1030.000000   \n",
       "mean           6.204660        972.918932      773.580485    45.662136   \n",
       "std            5.973841         77.753954       80.175980    63.169912   \n",
       "min            0.000000        801.000000      594.000000     1.000000   \n",
       "25%            0.000000        932.000000      730.950000     7.000000   \n",
       "50%            6.400000        968.000000      779.500000    28.000000   \n",
       "75%           10.200000       1029.400000      824.000000    56.000000   \n",
       "max           32.200000       1145.000000      992.600000   365.000000   \n",
       "\n",
       "          Strength  \n",
       "count  1030.000000  \n",
       "mean     35.817961  \n",
       "std      16.705742  \n",
       "min       2.330000  \n",
       "25%      23.710000  \n",
       "50%      34.445000  \n",
       "75%      46.135000  \n",
       "max      82.600000  "
      ]
     },
     "execution_count": 5,
     "metadata": {},
     "output_type": "execute_result"
    }
   ],
   "source": [
    "concrete_data.describe()"
   ]
  },
  {
   "cell_type": "code",
   "execution_count": 4,
   "metadata": {
    "button": false,
    "new_sheet": false,
    "run_control": {
     "read_only": false
    }
   },
   "outputs": [
    {
     "data": {
      "text/plain": [
       "Cement                0\n",
       "Blast Furnace Slag    0\n",
       "Fly Ash               0\n",
       "Water                 0\n",
       "Superplasticizer      0\n",
       "Coarse Aggregate      0\n",
       "Fine Aggregate        0\n",
       "Age                   0\n",
       "Strength              0\n",
       "dtype: int64"
      ]
     },
     "execution_count": 4,
     "metadata": {},
     "output_type": "execute_result"
    }
   ],
   "source": [
    "concrete_data.isnull().sum()"
   ]
  },
  {
   "cell_type": "markdown",
   "metadata": {
    "button": false,
    "new_sheet": false,
    "run_control": {
     "read_only": false
    }
   },
   "source": [
    "The data looks very clean and is ready to be used to build our model.\n"
   ]
  },
  {
   "cell_type": "markdown",
   "metadata": {
    "button": false,
    "new_sheet": false,
    "run_control": {
     "read_only": false
    }
   },
   "source": [
    "#### Split data into predictors and target\n"
   ]
  },
  {
   "cell_type": "markdown",
   "metadata": {},
   "source": [
    "The target variable in this problem is the concrete sample strength. Therefore, our predictors will be all the other columns.\n"
   ]
  },
  {
   "cell_type": "code",
   "execution_count": 5,
   "metadata": {
    "button": false,
    "new_sheet": false,
    "run_control": {
     "read_only": false
    }
   },
   "outputs": [],
   "source": [
    "concrete_data_columns = concrete_data.columns\n",
    "\n",
    "predictors = concrete_data[concrete_data_columns[concrete_data_columns != 'Strength']] # all columns except Strength\n",
    "target = concrete_data['Strength'] # Strength column"
   ]
  },
  {
   "cell_type": "markdown",
   "metadata": {
    "button": false,
    "new_sheet": false,
    "run_control": {
     "read_only": false
    }
   },
   "source": [
    "<a id=\"item2\"></a>\n"
   ]
  },
  {
   "cell_type": "markdown",
   "metadata": {
    "button": false,
    "new_sheet": false,
    "run_control": {
     "read_only": false
    }
   },
   "source": [
    "Let's do a quick sanity check of the predictors and the target dataframes.\n"
   ]
  },
  {
   "cell_type": "code",
   "execution_count": 6,
   "metadata": {
    "button": false,
    "new_sheet": false,
    "run_control": {
     "read_only": false
    }
   },
   "outputs": [
    {
     "data": {
      "text/html": [
       "<div>\n",
       "<style scoped>\n",
       "    .dataframe tbody tr th:only-of-type {\n",
       "        vertical-align: middle;\n",
       "    }\n",
       "\n",
       "    .dataframe tbody tr th {\n",
       "        vertical-align: top;\n",
       "    }\n",
       "\n",
       "    .dataframe thead th {\n",
       "        text-align: right;\n",
       "    }\n",
       "</style>\n",
       "<table border=\"1\" class=\"dataframe\">\n",
       "  <thead>\n",
       "    <tr style=\"text-align: right;\">\n",
       "      <th></th>\n",
       "      <th>Cement</th>\n",
       "      <th>Blast Furnace Slag</th>\n",
       "      <th>Fly Ash</th>\n",
       "      <th>Water</th>\n",
       "      <th>Superplasticizer</th>\n",
       "      <th>Coarse Aggregate</th>\n",
       "      <th>Fine Aggregate</th>\n",
       "      <th>Age</th>\n",
       "    </tr>\n",
       "  </thead>\n",
       "  <tbody>\n",
       "    <tr>\n",
       "      <th>0</th>\n",
       "      <td>540.0</td>\n",
       "      <td>0.0</td>\n",
       "      <td>0.0</td>\n",
       "      <td>162.0</td>\n",
       "      <td>2.5</td>\n",
       "      <td>1040.0</td>\n",
       "      <td>676.0</td>\n",
       "      <td>28</td>\n",
       "    </tr>\n",
       "    <tr>\n",
       "      <th>1</th>\n",
       "      <td>540.0</td>\n",
       "      <td>0.0</td>\n",
       "      <td>0.0</td>\n",
       "      <td>162.0</td>\n",
       "      <td>2.5</td>\n",
       "      <td>1055.0</td>\n",
       "      <td>676.0</td>\n",
       "      <td>28</td>\n",
       "    </tr>\n",
       "    <tr>\n",
       "      <th>2</th>\n",
       "      <td>332.5</td>\n",
       "      <td>142.5</td>\n",
       "      <td>0.0</td>\n",
       "      <td>228.0</td>\n",
       "      <td>0.0</td>\n",
       "      <td>932.0</td>\n",
       "      <td>594.0</td>\n",
       "      <td>270</td>\n",
       "    </tr>\n",
       "    <tr>\n",
       "      <th>3</th>\n",
       "      <td>332.5</td>\n",
       "      <td>142.5</td>\n",
       "      <td>0.0</td>\n",
       "      <td>228.0</td>\n",
       "      <td>0.0</td>\n",
       "      <td>932.0</td>\n",
       "      <td>594.0</td>\n",
       "      <td>365</td>\n",
       "    </tr>\n",
       "    <tr>\n",
       "      <th>4</th>\n",
       "      <td>198.6</td>\n",
       "      <td>132.4</td>\n",
       "      <td>0.0</td>\n",
       "      <td>192.0</td>\n",
       "      <td>0.0</td>\n",
       "      <td>978.4</td>\n",
       "      <td>825.5</td>\n",
       "      <td>360</td>\n",
       "    </tr>\n",
       "  </tbody>\n",
       "</table>\n",
       "</div>"
      ],
      "text/plain": [
       "   Cement  Blast Furnace Slag  Fly Ash  Water  Superplasticizer  \\\n",
       "0   540.0                 0.0      0.0  162.0               2.5   \n",
       "1   540.0                 0.0      0.0  162.0               2.5   \n",
       "2   332.5               142.5      0.0  228.0               0.0   \n",
       "3   332.5               142.5      0.0  228.0               0.0   \n",
       "4   198.6               132.4      0.0  192.0               0.0   \n",
       "\n",
       "   Coarse Aggregate  Fine Aggregate  Age  \n",
       "0            1040.0           676.0   28  \n",
       "1            1055.0           676.0   28  \n",
       "2             932.0           594.0  270  \n",
       "3             932.0           594.0  365  \n",
       "4             978.4           825.5  360  "
      ]
     },
     "execution_count": 6,
     "metadata": {},
     "output_type": "execute_result"
    }
   ],
   "source": [
    "predictors.head()"
   ]
  },
  {
   "cell_type": "code",
   "execution_count": 7,
   "metadata": {
    "button": false,
    "new_sheet": false,
    "run_control": {
     "read_only": false
    }
   },
   "outputs": [
    {
     "data": {
      "text/plain": [
       "0    79.99\n",
       "1    61.89\n",
       "2    40.27\n",
       "3    41.05\n",
       "4    44.30\n",
       "Name: Strength, dtype: float64"
      ]
     },
     "execution_count": 7,
     "metadata": {},
     "output_type": "execute_result"
    }
   ],
   "source": [
    "target.head()"
   ]
  },
  {
   "cell_type": "markdown",
   "metadata": {
    "button": false,
    "new_sheet": false,
    "run_control": {
     "read_only": false
    }
   },
   "source": [
    "Finally, the last step is to normalize the data by substracting the mean and dividing by the standard deviation.\n"
   ]
  },
  {
   "cell_type": "code",
   "execution_count": 8,
   "metadata": {
    "button": false,
    "new_sheet": false,
    "run_control": {
     "read_only": false
    }
   },
   "outputs": [
    {
     "data": {
      "text/html": [
       "<div>\n",
       "<style scoped>\n",
       "    .dataframe tbody tr th:only-of-type {\n",
       "        vertical-align: middle;\n",
       "    }\n",
       "\n",
       "    .dataframe tbody tr th {\n",
       "        vertical-align: top;\n",
       "    }\n",
       "\n",
       "    .dataframe thead th {\n",
       "        text-align: right;\n",
       "    }\n",
       "</style>\n",
       "<table border=\"1\" class=\"dataframe\">\n",
       "  <thead>\n",
       "    <tr style=\"text-align: right;\">\n",
       "      <th></th>\n",
       "      <th>Cement</th>\n",
       "      <th>Blast Furnace Slag</th>\n",
       "      <th>Fly Ash</th>\n",
       "      <th>Water</th>\n",
       "      <th>Superplasticizer</th>\n",
       "      <th>Coarse Aggregate</th>\n",
       "      <th>Fine Aggregate</th>\n",
       "      <th>Age</th>\n",
       "    </tr>\n",
       "  </thead>\n",
       "  <tbody>\n",
       "    <tr>\n",
       "      <th>0</th>\n",
       "      <td>2.476712</td>\n",
       "      <td>-0.856472</td>\n",
       "      <td>-0.846733</td>\n",
       "      <td>-0.916319</td>\n",
       "      <td>-0.620147</td>\n",
       "      <td>0.862735</td>\n",
       "      <td>-1.217079</td>\n",
       "      <td>-0.279597</td>\n",
       "    </tr>\n",
       "    <tr>\n",
       "      <th>1</th>\n",
       "      <td>2.476712</td>\n",
       "      <td>-0.856472</td>\n",
       "      <td>-0.846733</td>\n",
       "      <td>-0.916319</td>\n",
       "      <td>-0.620147</td>\n",
       "      <td>1.055651</td>\n",
       "      <td>-1.217079</td>\n",
       "      <td>-0.279597</td>\n",
       "    </tr>\n",
       "    <tr>\n",
       "      <th>2</th>\n",
       "      <td>0.491187</td>\n",
       "      <td>0.795140</td>\n",
       "      <td>-0.846733</td>\n",
       "      <td>2.174405</td>\n",
       "      <td>-1.038638</td>\n",
       "      <td>-0.526262</td>\n",
       "      <td>-2.239829</td>\n",
       "      <td>3.551340</td>\n",
       "    </tr>\n",
       "    <tr>\n",
       "      <th>3</th>\n",
       "      <td>0.491187</td>\n",
       "      <td>0.795140</td>\n",
       "      <td>-0.846733</td>\n",
       "      <td>2.174405</td>\n",
       "      <td>-1.038638</td>\n",
       "      <td>-0.526262</td>\n",
       "      <td>-2.239829</td>\n",
       "      <td>5.055221</td>\n",
       "    </tr>\n",
       "    <tr>\n",
       "      <th>4</th>\n",
       "      <td>-0.790075</td>\n",
       "      <td>0.678079</td>\n",
       "      <td>-0.846733</td>\n",
       "      <td>0.488555</td>\n",
       "      <td>-1.038638</td>\n",
       "      <td>0.070492</td>\n",
       "      <td>0.647569</td>\n",
       "      <td>4.976069</td>\n",
       "    </tr>\n",
       "  </tbody>\n",
       "</table>\n",
       "</div>"
      ],
      "text/plain": [
       "     Cement  Blast Furnace Slag   Fly Ash     Water  Superplasticizer  \\\n",
       "0  2.476712           -0.856472 -0.846733 -0.916319         -0.620147   \n",
       "1  2.476712           -0.856472 -0.846733 -0.916319         -0.620147   \n",
       "2  0.491187            0.795140 -0.846733  2.174405         -1.038638   \n",
       "3  0.491187            0.795140 -0.846733  2.174405         -1.038638   \n",
       "4 -0.790075            0.678079 -0.846733  0.488555         -1.038638   \n",
       "\n",
       "   Coarse Aggregate  Fine Aggregate       Age  \n",
       "0          0.862735       -1.217079 -0.279597  \n",
       "1          1.055651       -1.217079 -0.279597  \n",
       "2         -0.526262       -2.239829  3.551340  \n",
       "3         -0.526262       -2.239829  5.055221  \n",
       "4          0.070492        0.647569  4.976069  "
      ]
     },
     "execution_count": 8,
     "metadata": {},
     "output_type": "execute_result"
    }
   ],
   "source": [
    "predictors_norm = (predictors - predictors.mean()) / predictors.std()\n",
    "predictors_norm.head()"
   ]
  },
  {
   "cell_type": "markdown",
   "metadata": {},
   "source": [
    "Let's save the number of predictors to _n_cols_ since we will need this number when building our network.\n"
   ]
  },
  {
   "cell_type": "code",
   "execution_count": 9,
   "metadata": {
    "button": false,
    "new_sheet": false,
    "run_control": {
     "read_only": false
    }
   },
   "outputs": [
    {
     "data": {
      "text/plain": [
       "8"
      ]
     },
     "execution_count": 9,
     "metadata": {},
     "output_type": "execute_result"
    }
   ],
   "source": [
    "n_cols = predictors_norm.shape[1] # number of predictors\n",
    "n_cols"
   ]
  },
  {
   "cell_type": "markdown",
   "metadata": {
    "button": false,
    "new_sheet": false,
    "run_control": {
     "read_only": false
    }
   },
   "source": [
    "<a id=\"item1\"></a>\n"
   ]
  },
  {
   "cell_type": "markdown",
   "metadata": {},
   "source": [
    "<a id='item32'></a>\n"
   ]
  },
  {
   "cell_type": "markdown",
   "metadata": {
    "button": false,
    "new_sheet": false,
    "run_control": {
     "read_only": false
    }
   },
   "source": [
    "## Import Keras\n"
   ]
  },
  {
   "cell_type": "markdown",
   "metadata": {
    "button": false,
    "new_sheet": false,
    "run_control": {
     "read_only": false
    }
   },
   "source": [
    "Recall from the videos that Keras normally runs on top of a low-level library such as TensorFlow. This means that to be able to use the Keras library, you will have to install TensorFlow first and when you import the Keras library, it will be explicitly displayed what backend was used to install the Keras library. In CC Labs, we used TensorFlow as the backend to install Keras, so it should clearly print that when we import Keras.\n"
   ]
  },
  {
   "cell_type": "markdown",
   "metadata": {
    "button": false,
    "new_sheet": false,
    "run_control": {
     "read_only": false
    }
   },
   "source": [
    "#### Let's go ahead and import the Keras library\n"
   ]
  },
  {
   "cell_type": "code",
   "execution_count": 10,
   "metadata": {
    "button": false,
    "new_sheet": false,
    "run_control": {
     "read_only": false
    }
   },
   "outputs": [],
   "source": [
    "import keras"
   ]
  },
  {
   "cell_type": "markdown",
   "metadata": {
    "button": false,
    "new_sheet": false,
    "run_control": {
     "read_only": false
    }
   },
   "source": [
    "As you can see, the TensorFlow backend was used to install the Keras library.\n"
   ]
  },
  {
   "cell_type": "markdown",
   "metadata": {
    "button": false,
    "new_sheet": false,
    "run_control": {
     "read_only": false
    }
   },
   "source": [
    "Let's import the rest of the packages from the Keras library that we will need to build our regressoin model.\n"
   ]
  },
  {
   "cell_type": "code",
   "execution_count": 11,
   "metadata": {
    "button": false,
    "new_sheet": false,
    "run_control": {
     "read_only": false
    }
   },
   "outputs": [],
   "source": [
    "from keras.models import Sequential\n",
    "from keras.layers import Dense"
   ]
  },
  {
   "cell_type": "markdown",
   "metadata": {},
   "source": [
    "<a id='item33'></a>\n"
   ]
  },
  {
   "cell_type": "markdown",
   "metadata": {
    "button": false,
    "new_sheet": false,
    "run_control": {
     "read_only": false
    }
   },
   "source": [
    "## Build a Neural Network\n"
   ]
  },
  {
   "cell_type": "markdown",
   "metadata": {
    "button": false,
    "new_sheet": false,
    "run_control": {
     "read_only": false
    }
   },
   "source": [
    "Let's define a function that defines our regression model for us so that we can conveniently call it to create our model.\n"
   ]
  },
  {
   "cell_type": "code",
   "execution_count": 12,
   "metadata": {
    "button": false,
    "new_sheet": false,
    "run_control": {
     "read_only": false
    }
   },
   "outputs": [],
   "source": [
    "# define regression model\n",
    "def regression_model():\n",
    "    # create model\n",
    "    model = Sequential()\n",
    "    model.add(Dense(50, activation='relu', input_shape=(n_cols,)))\n",
    "    model.add(Dense(1))\n",
    "    \n",
    "    # compile model\n",
    "    model.compile(optimizer='adam', loss='mean_squared_error')\n",
    "    return model"
   ]
  },
  {
   "cell_type": "markdown",
   "metadata": {},
   "source": [
    "The above function create a model that has two hidden layers, each of 50 hidden units.\n"
   ]
  },
  {
   "cell_type": "markdown",
   "metadata": {
    "button": false,
    "new_sheet": false,
    "run_control": {
     "read_only": false
    }
   },
   "source": [
    "<a id=\"item4\"></a>\n"
   ]
  },
  {
   "cell_type": "markdown",
   "metadata": {},
   "source": [
    "<a id='item34'></a>\n"
   ]
  },
  {
   "cell_type": "markdown",
   "metadata": {
    "button": false,
    "new_sheet": false,
    "run_control": {
     "read_only": false
    }
   },
   "source": [
    "## Train and Test the Network\n"
   ]
  },
  {
   "cell_type": "markdown",
   "metadata": {},
   "source": [
    "Let's call the function now to create our model.\n"
   ]
  },
  {
   "cell_type": "code",
   "execution_count": 13,
   "metadata": {
    "button": false,
    "new_sheet": false,
    "run_control": {
     "read_only": false
    }
   },
   "outputs": [],
   "source": [
    "# build the model\n",
    "model = regression_model()"
   ]
  },
  {
   "cell_type": "markdown",
   "metadata": {},
   "source": [
    "Next, we will train and test the model at the same time using the _fit_ method. We will leave out 30% of the data for validation and we will train the model for 100 epochs.\n"
   ]
  },
  {
   "cell_type": "code",
   "execution_count": 15,
   "metadata": {},
   "outputs": [
    {
     "name": "stdout",
     "output_type": "stream",
     "text": [
      "Epoch 1/300\n",
      "23/23 - 0s - loss: 35.8368 - val_loss: 108.3584\n",
      "Epoch 2/300\n",
      "23/23 - 0s - loss: 34.8648 - val_loss: 108.0163\n",
      "Epoch 3/300\n",
      "23/23 - 0s - loss: 34.4559 - val_loss: 111.1930\n",
      "Epoch 4/300\n",
      "23/23 - 0s - loss: 34.3357 - val_loss: 115.1690\n",
      "Epoch 5/300\n",
      "23/23 - 0s - loss: 33.6170 - val_loss: 117.9987\n",
      "Epoch 6/300\n",
      "23/23 - 0s - loss: 33.7068 - val_loss: 114.3416\n",
      "Epoch 7/300\n",
      "23/23 - 0s - loss: 33.0891 - val_loss: 117.6360\n",
      "Epoch 8/300\n",
      "23/23 - 0s - loss: 32.9099 - val_loss: 108.7836\n",
      "Epoch 9/300\n",
      "23/23 - 0s - loss: 32.2188 - val_loss: 120.1772\n",
      "Epoch 10/300\n",
      "23/23 - 0s - loss: 32.0380 - val_loss: 121.8518\n",
      "Epoch 11/300\n",
      "23/23 - 0s - loss: 32.4109 - val_loss: 120.2986\n",
      "Epoch 12/300\n",
      "23/23 - 0s - loss: 31.7919 - val_loss: 108.3822\n",
      "Epoch 13/300\n",
      "23/23 - 0s - loss: 31.3638 - val_loss: 125.4875\n",
      "Epoch 14/300\n",
      "23/23 - 0s - loss: 30.7167 - val_loss: 115.4378\n",
      "Epoch 15/300\n",
      "23/23 - 0s - loss: 31.3409 - val_loss: 108.2572\n",
      "Epoch 16/300\n",
      "23/23 - 0s - loss: 31.4401 - val_loss: 105.7903\n",
      "Epoch 17/300\n",
      "23/23 - 0s - loss: 30.7108 - val_loss: 107.7148\n",
      "Epoch 18/300\n",
      "23/23 - 0s - loss: 30.5295 - val_loss: 119.8058\n",
      "Epoch 19/300\n",
      "23/23 - 0s - loss: 29.7652 - val_loss: 129.0174\n",
      "Epoch 20/300\n",
      "23/23 - 0s - loss: 30.1581 - val_loss: 121.6209\n",
      "Epoch 21/300\n",
      "23/23 - 0s - loss: 29.1049 - val_loss: 117.1285\n",
      "Epoch 22/300\n",
      "23/23 - 0s - loss: 28.8489 - val_loss: 116.8234\n",
      "Epoch 23/300\n",
      "23/23 - 0s - loss: 28.8791 - val_loss: 101.6818\n",
      "Epoch 24/300\n",
      "23/23 - 0s - loss: 29.2859 - val_loss: 110.2319\n",
      "Epoch 25/300\n",
      "23/23 - 0s - loss: 29.2877 - val_loss: 113.6179\n",
      "Epoch 26/300\n",
      "23/23 - 0s - loss: 28.1593 - val_loss: 123.3229\n",
      "Epoch 27/300\n",
      "23/23 - 0s - loss: 27.7733 - val_loss: 115.5214\n",
      "Epoch 28/300\n",
      "23/23 - 0s - loss: 27.8036 - val_loss: 108.7052\n",
      "Epoch 29/300\n",
      "23/23 - 0s - loss: 27.9346 - val_loss: 123.0712\n",
      "Epoch 30/300\n",
      "23/23 - 0s - loss: 27.2056 - val_loss: 120.7683\n",
      "Epoch 31/300\n",
      "23/23 - 0s - loss: 27.3341 - val_loss: 113.9390\n",
      "Epoch 32/300\n",
      "23/23 - 0s - loss: 26.9431 - val_loss: 113.6713\n",
      "Epoch 33/300\n",
      "23/23 - 0s - loss: 27.0229 - val_loss: 107.8584\n",
      "Epoch 34/300\n",
      "23/23 - 0s - loss: 26.7904 - val_loss: 113.1997\n",
      "Epoch 35/300\n",
      "23/23 - 0s - loss: 27.3248 - val_loss: 125.3180\n",
      "Epoch 36/300\n",
      "23/23 - 0s - loss: 26.3525 - val_loss: 116.6891\n",
      "Epoch 37/300\n",
      "23/23 - 0s - loss: 26.7635 - val_loss: 114.1052\n",
      "Epoch 38/300\n",
      "23/23 - 0s - loss: 26.5018 - val_loss: 111.0246\n",
      "Epoch 39/300\n",
      "23/23 - 0s - loss: 26.0315 - val_loss: 113.1785\n",
      "Epoch 40/300\n",
      "23/23 - 0s - loss: 25.8413 - val_loss: 116.4209\n",
      "Epoch 41/300\n",
      "23/23 - 0s - loss: 26.0893 - val_loss: 105.0928\n",
      "Epoch 42/300\n",
      "23/23 - 0s - loss: 25.7211 - val_loss: 113.1391\n",
      "Epoch 43/300\n",
      "23/23 - 0s - loss: 25.4468 - val_loss: 121.3078\n",
      "Epoch 44/300\n",
      "23/23 - 0s - loss: 25.0390 - val_loss: 105.6413\n",
      "Epoch 45/300\n",
      "23/23 - 0s - loss: 24.9840 - val_loss: 115.2580\n",
      "Epoch 46/300\n",
      "23/23 - 0s - loss: 24.8487 - val_loss: 113.4529\n",
      "Epoch 47/300\n",
      "23/23 - 0s - loss: 24.8048 - val_loss: 109.9021\n",
      "Epoch 48/300\n",
      "23/23 - 0s - loss: 24.5938 - val_loss: 120.1756\n",
      "Epoch 49/300\n",
      "23/23 - 0s - loss: 24.5152 - val_loss: 114.2340\n",
      "Epoch 50/300\n",
      "23/23 - 0s - loss: 24.3989 - val_loss: 112.4508\n",
      "Epoch 51/300\n",
      "23/23 - 0s - loss: 24.4493 - val_loss: 117.1583\n",
      "Epoch 52/300\n",
      "23/23 - 0s - loss: 24.0889 - val_loss: 112.8377\n",
      "Epoch 53/300\n",
      "23/23 - 0s - loss: 24.1933 - val_loss: 113.9319\n",
      "Epoch 54/300\n",
      "23/23 - 0s - loss: 23.6928 - val_loss: 109.1402\n",
      "Epoch 55/300\n",
      "23/23 - 0s - loss: 23.8449 - val_loss: 113.7670\n",
      "Epoch 56/300\n",
      "23/23 - 0s - loss: 23.8225 - val_loss: 112.6588\n",
      "Epoch 57/300\n",
      "23/23 - 0s - loss: 23.6468 - val_loss: 114.0872\n",
      "Epoch 58/300\n",
      "23/23 - 0s - loss: 23.7191 - val_loss: 108.6532\n",
      "Epoch 59/300\n",
      "23/23 - 0s - loss: 23.4212 - val_loss: 115.8155\n",
      "Epoch 60/300\n",
      "23/23 - 0s - loss: 23.2740 - val_loss: 106.5005\n",
      "Epoch 61/300\n",
      "23/23 - 0s - loss: 23.1109 - val_loss: 109.4523\n",
      "Epoch 62/300\n",
      "23/23 - 0s - loss: 23.0076 - val_loss: 116.1395\n",
      "Epoch 63/300\n",
      "23/23 - 0s - loss: 23.1493 - val_loss: 111.4083\n",
      "Epoch 64/300\n",
      "23/23 - 0s - loss: 22.7988 - val_loss: 115.8770\n",
      "Epoch 65/300\n",
      "23/23 - 0s - loss: 22.8987 - val_loss: 121.6465\n",
      "Epoch 66/300\n",
      "23/23 - 0s - loss: 23.0091 - val_loss: 110.5225\n",
      "Epoch 67/300\n",
      "23/23 - 0s - loss: 22.1667 - val_loss: 111.5965\n",
      "Epoch 68/300\n",
      "23/23 - 0s - loss: 22.2461 - val_loss: 115.9894\n",
      "Epoch 69/300\n",
      "23/23 - 0s - loss: 22.5134 - val_loss: 117.0442\n",
      "Epoch 70/300\n",
      "23/23 - 0s - loss: 21.8709 - val_loss: 112.1212\n",
      "Epoch 71/300\n",
      "23/23 - 0s - loss: 22.0825 - val_loss: 110.4117\n",
      "Epoch 72/300\n",
      "23/23 - 0s - loss: 21.6268 - val_loss: 103.2697\n",
      "Epoch 73/300\n",
      "23/23 - 0s - loss: 21.6366 - val_loss: 110.3524\n",
      "Epoch 74/300\n",
      "23/23 - 0s - loss: 21.6326 - val_loss: 113.7798\n",
      "Epoch 75/300\n",
      "23/23 - 0s - loss: 21.3899 - val_loss: 117.5079\n",
      "Epoch 76/300\n",
      "23/23 - 0s - loss: 22.3177 - val_loss: 114.9300\n",
      "Epoch 77/300\n",
      "23/23 - 0s - loss: 21.8217 - val_loss: 116.5355\n",
      "Epoch 78/300\n",
      "23/23 - 0s - loss: 21.9623 - val_loss: 109.6417\n",
      "Epoch 79/300\n",
      "23/23 - 0s - loss: 21.4182 - val_loss: 111.3659\n",
      "Epoch 80/300\n",
      "23/23 - 0s - loss: 21.3232 - val_loss: 108.7639\n",
      "Epoch 81/300\n",
      "23/23 - 0s - loss: 21.2871 - val_loss: 105.1258\n",
      "Epoch 82/300\n",
      "23/23 - 0s - loss: 20.7946 - val_loss: 104.4193\n",
      "Epoch 83/300\n",
      "23/23 - 0s - loss: 20.7688 - val_loss: 100.0226\n",
      "Epoch 84/300\n",
      "23/23 - 0s - loss: 21.2556 - val_loss: 102.5732\n",
      "Epoch 85/300\n",
      "23/23 - 0s - loss: 20.4570 - val_loss: 104.3412\n",
      "Epoch 86/300\n",
      "23/23 - 0s - loss: 20.7369 - val_loss: 108.7688\n",
      "Epoch 87/300\n",
      "23/23 - 0s - loss: 20.6061 - val_loss: 105.3288\n",
      "Epoch 88/300\n",
      "23/23 - 0s - loss: 20.0826 - val_loss: 96.9606\n",
      "Epoch 89/300\n",
      "23/23 - 0s - loss: 20.3426 - val_loss: 101.1714\n",
      "Epoch 90/300\n",
      "23/23 - 0s - loss: 20.7229 - val_loss: 101.7166\n",
      "Epoch 91/300\n",
      "23/23 - 0s - loss: 20.1329 - val_loss: 96.1671\n",
      "Epoch 92/300\n",
      "23/23 - 0s - loss: 19.9329 - val_loss: 99.9861\n",
      "Epoch 93/300\n",
      "23/23 - 0s - loss: 20.3603 - val_loss: 112.4450\n",
      "Epoch 94/300\n",
      "23/23 - 0s - loss: 19.4759 - val_loss: 103.0958\n",
      "Epoch 95/300\n",
      "23/23 - 0s - loss: 19.7297 - val_loss: 97.6152\n",
      "Epoch 96/300\n",
      "23/23 - 0s - loss: 19.5277 - val_loss: 104.7214\n",
      "Epoch 97/300\n",
      "23/23 - 0s - loss: 19.3137 - val_loss: 96.8399\n",
      "Epoch 98/300\n",
      "23/23 - 0s - loss: 19.2894 - val_loss: 112.8363\n",
      "Epoch 99/300\n",
      "23/23 - 0s - loss: 19.3151 - val_loss: 104.3528\n",
      "Epoch 100/300\n",
      "23/23 - 0s - loss: 19.6796 - val_loss: 98.9894\n",
      "Epoch 101/300\n",
      "23/23 - 0s - loss: 19.3206 - val_loss: 95.4548\n",
      "Epoch 102/300\n",
      "23/23 - 0s - loss: 19.1255 - val_loss: 104.8736\n",
      "Epoch 103/300\n",
      "23/23 - 0s - loss: 19.0656 - val_loss: 109.9303\n",
      "Epoch 104/300\n",
      "23/23 - 0s - loss: 18.7849 - val_loss: 101.2439\n",
      "Epoch 105/300\n",
      "23/23 - 0s - loss: 19.3129 - val_loss: 111.2079\n",
      "Epoch 106/300\n",
      "23/23 - 0s - loss: 18.3193 - val_loss: 101.0671\n",
      "Epoch 107/300\n",
      "23/23 - 0s - loss: 18.4856 - val_loss: 94.9065\n",
      "Epoch 108/300\n",
      "23/23 - 0s - loss: 18.4968 - val_loss: 105.0796\n",
      "Epoch 109/300\n",
      "23/23 - 0s - loss: 18.3578 - val_loss: 99.5366\n",
      "Epoch 110/300\n",
      "23/23 - 0s - loss: 18.3508 - val_loss: 96.4891\n",
      "Epoch 111/300\n",
      "23/23 - 0s - loss: 18.2295 - val_loss: 98.4096\n",
      "Epoch 112/300\n",
      "23/23 - 0s - loss: 18.2528 - val_loss: 97.2968\n",
      "Epoch 113/300\n",
      "23/23 - 0s - loss: 18.3295 - val_loss: 97.1552\n",
      "Epoch 114/300\n",
      "23/23 - 0s - loss: 17.6850 - val_loss: 99.7220\n",
      "Epoch 115/300\n",
      "23/23 - 0s - loss: 17.9959 - val_loss: 105.8617\n",
      "Epoch 116/300\n",
      "23/23 - 0s - loss: 17.8158 - val_loss: 94.0522\n",
      "Epoch 117/300\n",
      "23/23 - 0s - loss: 18.0397 - val_loss: 93.7841\n",
      "Epoch 118/300\n",
      "23/23 - 0s - loss: 17.6538 - val_loss: 101.2885\n",
      "Epoch 119/300\n",
      "23/23 - 0s - loss: 17.3009 - val_loss: 99.7913\n",
      "Epoch 120/300\n",
      "23/23 - 0s - loss: 17.3541 - val_loss: 91.2066\n",
      "Epoch 121/300\n",
      "23/23 - 0s - loss: 17.4568 - val_loss: 101.1181\n",
      "Epoch 122/300\n",
      "23/23 - 0s - loss: 18.2885 - val_loss: 109.2494\n",
      "Epoch 123/300\n",
      "23/23 - 0s - loss: 17.5263 - val_loss: 101.8288\n",
      "Epoch 124/300\n",
      "23/23 - 0s - loss: 17.5482 - val_loss: 98.1700\n",
      "Epoch 125/300\n",
      "23/23 - 0s - loss: 17.1363 - val_loss: 93.5652\n",
      "Epoch 126/300\n",
      "23/23 - 0s - loss: 17.5746 - val_loss: 106.8372\n",
      "Epoch 127/300\n",
      "23/23 - 0s - loss: 17.1107 - val_loss: 101.7452\n",
      "Epoch 128/300\n",
      "23/23 - 0s - loss: 17.1988 - val_loss: 98.7920\n",
      "Epoch 129/300\n",
      "23/23 - 0s - loss: 17.1379 - val_loss: 103.2599\n",
      "Epoch 130/300\n",
      "23/23 - 0s - loss: 16.7342 - val_loss: 104.6573\n",
      "Epoch 131/300\n",
      "23/23 - 0s - loss: 16.9815 - val_loss: 112.0253\n",
      "Epoch 132/300\n",
      "23/23 - 0s - loss: 16.8803 - val_loss: 110.1505\n",
      "Epoch 133/300\n",
      "23/23 - 0s - loss: 16.5406 - val_loss: 94.7991\n",
      "Epoch 134/300\n",
      "23/23 - 0s - loss: 16.7609 - val_loss: 96.6518\n",
      "Epoch 135/300\n",
      "23/23 - 0s - loss: 16.6588 - val_loss: 94.4637\n"
     ]
    },
    {
     "name": "stdout",
     "output_type": "stream",
     "text": [
      "Epoch 136/300\n",
      "23/23 - 0s - loss: 16.4858 - val_loss: 108.7226\n",
      "Epoch 137/300\n",
      "23/23 - 0s - loss: 16.4938 - val_loss: 99.0080\n",
      "Epoch 138/300\n",
      "23/23 - 0s - loss: 16.3585 - val_loss: 100.7724\n",
      "Epoch 139/300\n",
      "23/23 - 0s - loss: 16.7768 - val_loss: 105.2698\n",
      "Epoch 140/300\n",
      "23/23 - 0s - loss: 16.1996 - val_loss: 120.7779\n",
      "Epoch 141/300\n",
      "23/23 - 0s - loss: 17.5278 - val_loss: 111.2546\n",
      "Epoch 142/300\n",
      "23/23 - 0s - loss: 17.3528 - val_loss: 105.9782\n",
      "Epoch 143/300\n",
      "23/23 - 0s - loss: 16.2296 - val_loss: 95.3295\n",
      "Epoch 144/300\n",
      "23/23 - 0s - loss: 16.0461 - val_loss: 99.1531\n",
      "Epoch 145/300\n",
      "23/23 - 0s - loss: 15.9686 - val_loss: 93.2745\n",
      "Epoch 146/300\n",
      "23/23 - 0s - loss: 16.2607 - val_loss: 98.9737\n",
      "Epoch 147/300\n",
      "23/23 - 0s - loss: 16.2829 - val_loss: 105.0882\n",
      "Epoch 148/300\n",
      "23/23 - 0s - loss: 16.1564 - val_loss: 106.9155\n",
      "Epoch 149/300\n",
      "23/23 - 0s - loss: 16.5477 - val_loss: 104.7693\n",
      "Epoch 150/300\n",
      "23/23 - 0s - loss: 15.6652 - val_loss: 106.9303\n",
      "Epoch 151/300\n",
      "23/23 - 0s - loss: 16.5650 - val_loss: 99.5081\n",
      "Epoch 152/300\n",
      "23/23 - 0s - loss: 15.7753 - val_loss: 104.7995\n",
      "Epoch 153/300\n",
      "23/23 - 0s - loss: 15.7802 - val_loss: 111.3410\n",
      "Epoch 154/300\n",
      "23/23 - 0s - loss: 15.5881 - val_loss: 102.5019\n",
      "Epoch 155/300\n",
      "23/23 - 0s - loss: 15.4795 - val_loss: 96.2090\n",
      "Epoch 156/300\n",
      "23/23 - 0s - loss: 16.0803 - val_loss: 104.0089\n",
      "Epoch 157/300\n",
      "23/23 - 0s - loss: 15.8274 - val_loss: 99.8233\n",
      "Epoch 158/300\n",
      "23/23 - 0s - loss: 15.3284 - val_loss: 102.7944\n",
      "Epoch 159/300\n",
      "23/23 - 0s - loss: 16.1247 - val_loss: 109.8635\n",
      "Epoch 160/300\n",
      "23/23 - 0s - loss: 15.9558 - val_loss: 103.1086\n",
      "Epoch 161/300\n",
      "23/23 - 0s - loss: 15.3551 - val_loss: 101.6171\n",
      "Epoch 162/300\n",
      "23/23 - 0s - loss: 15.5229 - val_loss: 105.0320\n",
      "Epoch 163/300\n",
      "23/23 - 0s - loss: 15.2961 - val_loss: 107.2027\n",
      "Epoch 164/300\n",
      "23/23 - 0s - loss: 15.3290 - val_loss: 102.0426\n",
      "Epoch 165/300\n",
      "23/23 - 0s - loss: 14.8781 - val_loss: 107.9701\n",
      "Epoch 166/300\n",
      "23/23 - 0s - loss: 15.0750 - val_loss: 108.9904\n",
      "Epoch 167/300\n",
      "23/23 - 0s - loss: 15.4931 - val_loss: 113.5704\n",
      "Epoch 168/300\n",
      "23/23 - 0s - loss: 15.3150 - val_loss: 108.2649\n",
      "Epoch 169/300\n",
      "23/23 - 0s - loss: 15.1406 - val_loss: 95.6576\n",
      "Epoch 170/300\n",
      "23/23 - 0s - loss: 15.0945 - val_loss: 98.8268\n",
      "Epoch 171/300\n",
      "23/23 - 0s - loss: 15.3059 - val_loss: 104.9571\n",
      "Epoch 172/300\n",
      "23/23 - 0s - loss: 14.7840 - val_loss: 104.6357\n",
      "Epoch 173/300\n",
      "23/23 - 0s - loss: 15.2115 - val_loss: 106.9724\n",
      "Epoch 174/300\n",
      "23/23 - 0s - loss: 14.4708 - val_loss: 106.1278\n",
      "Epoch 175/300\n",
      "23/23 - 0s - loss: 14.7138 - val_loss: 110.1108\n",
      "Epoch 176/300\n",
      "23/23 - 0s - loss: 14.9890 - val_loss: 102.4258\n",
      "Epoch 177/300\n",
      "23/23 - 0s - loss: 14.6126 - val_loss: 102.8153\n",
      "Epoch 178/300\n",
      "23/23 - 0s - loss: 14.4756 - val_loss: 108.7089\n",
      "Epoch 179/300\n",
      "23/23 - 0s - loss: 14.5424 - val_loss: 100.3880\n",
      "Epoch 180/300\n",
      "23/23 - 0s - loss: 14.2866 - val_loss: 102.8884\n",
      "Epoch 181/300\n",
      "23/23 - 0s - loss: 14.6391 - val_loss: 103.4398\n",
      "Epoch 182/300\n",
      "23/23 - 0s - loss: 14.5166 - val_loss: 102.4535\n",
      "Epoch 183/300\n",
      "23/23 - 0s - loss: 14.3402 - val_loss: 103.4865\n",
      "Epoch 184/300\n",
      "23/23 - 0s - loss: 14.2606 - val_loss: 106.3871\n",
      "Epoch 185/300\n",
      "23/23 - 0s - loss: 14.5788 - val_loss: 105.5849\n",
      "Epoch 186/300\n",
      "23/23 - 0s - loss: 14.2592 - val_loss: 103.6954\n",
      "Epoch 187/300\n",
      "23/23 - 0s - loss: 14.2829 - val_loss: 104.6450\n",
      "Epoch 188/300\n",
      "23/23 - 0s - loss: 14.0952 - val_loss: 102.5937\n",
      "Epoch 189/300\n",
      "23/23 - 0s - loss: 14.2320 - val_loss: 115.7591\n",
      "Epoch 190/300\n",
      "23/23 - 0s - loss: 15.0777 - val_loss: 102.3028\n",
      "Epoch 191/300\n",
      "23/23 - 0s - loss: 14.3476 - val_loss: 122.1760\n",
      "Epoch 192/300\n",
      "23/23 - 0s - loss: 14.5162 - val_loss: 112.5561\n",
      "Epoch 193/300\n",
      "23/23 - 0s - loss: 14.0909 - val_loss: 105.2242\n",
      "Epoch 194/300\n",
      "23/23 - 0s - loss: 13.8866 - val_loss: 105.9981\n",
      "Epoch 195/300\n",
      "23/23 - 0s - loss: 13.7798 - val_loss: 95.2847\n",
      "Epoch 196/300\n",
      "23/23 - 0s - loss: 13.8652 - val_loss: 101.0474\n",
      "Epoch 197/300\n",
      "23/23 - 0s - loss: 14.0928 - val_loss: 94.1386\n",
      "Epoch 198/300\n",
      "23/23 - 0s - loss: 14.0502 - val_loss: 106.6973\n",
      "Epoch 199/300\n",
      "23/23 - 0s - loss: 13.8121 - val_loss: 100.8144\n",
      "Epoch 200/300\n",
      "23/23 - 0s - loss: 13.9443 - val_loss: 112.3900\n",
      "Epoch 201/300\n",
      "23/23 - 0s - loss: 13.9166 - val_loss: 99.8032\n",
      "Epoch 202/300\n",
      "23/23 - 0s - loss: 13.7686 - val_loss: 108.2775\n",
      "Epoch 203/300\n",
      "23/23 - 0s - loss: 13.9112 - val_loss: 106.1781\n",
      "Epoch 204/300\n",
      "23/23 - 0s - loss: 13.6811 - val_loss: 106.1680\n",
      "Epoch 205/300\n",
      "23/23 - 0s - loss: 13.8354 - val_loss: 107.0752\n",
      "Epoch 206/300\n",
      "23/23 - 0s - loss: 13.3377 - val_loss: 102.2839\n",
      "Epoch 207/300\n",
      "23/23 - 0s - loss: 13.3497 - val_loss: 100.4743\n",
      "Epoch 208/300\n",
      "23/23 - 0s - loss: 13.8627 - val_loss: 104.6282\n",
      "Epoch 209/300\n",
      "23/23 - 0s - loss: 13.8374 - val_loss: 123.1895\n",
      "Epoch 210/300\n",
      "23/23 - 0s - loss: 14.1026 - val_loss: 106.1052\n",
      "Epoch 211/300\n",
      "23/23 - 0s - loss: 13.3827 - val_loss: 112.6720\n",
      "Epoch 212/300\n",
      "23/23 - 0s - loss: 13.9499 - val_loss: 102.2629\n",
      "Epoch 213/300\n",
      "23/23 - 0s - loss: 13.9278 - val_loss: 111.3671\n",
      "Epoch 214/300\n",
      "23/23 - 0s - loss: 14.4725 - val_loss: 118.3253\n",
      "Epoch 215/300\n",
      "23/23 - 0s - loss: 13.9001 - val_loss: 100.6923\n",
      "Epoch 216/300\n",
      "23/23 - 0s - loss: 13.6631 - val_loss: 102.3284\n",
      "Epoch 217/300\n",
      "23/23 - 0s - loss: 13.0646 - val_loss: 107.3672\n",
      "Epoch 218/300\n",
      "23/23 - 0s - loss: 13.3219 - val_loss: 111.4542\n",
      "Epoch 219/300\n",
      "23/23 - 0s - loss: 13.1821 - val_loss: 105.6627\n",
      "Epoch 220/300\n",
      "23/23 - 0s - loss: 13.0190 - val_loss: 112.4004\n",
      "Epoch 221/300\n",
      "23/23 - 0s - loss: 13.1742 - val_loss: 108.8741\n",
      "Epoch 222/300\n",
      "23/23 - 0s - loss: 12.9938 - val_loss: 99.0349\n",
      "Epoch 223/300\n",
      "23/23 - 0s - loss: 13.2277 - val_loss: 107.7636\n",
      "Epoch 224/300\n",
      "23/23 - 0s - loss: 13.1777 - val_loss: 114.6621\n",
      "Epoch 225/300\n",
      "23/23 - 0s - loss: 13.2974 - val_loss: 107.4316\n",
      "Epoch 226/300\n",
      "23/23 - 0s - loss: 12.8911 - val_loss: 98.4061\n",
      "Epoch 227/300\n",
      "23/23 - 0s - loss: 12.9425 - val_loss: 103.9139\n",
      "Epoch 228/300\n",
      "23/23 - 0s - loss: 13.2842 - val_loss: 102.7540\n",
      "Epoch 229/300\n",
      "23/23 - 0s - loss: 13.0181 - val_loss: 115.5982\n",
      "Epoch 230/300\n",
      "23/23 - 0s - loss: 13.0577 - val_loss: 114.9995\n",
      "Epoch 231/300\n",
      "23/23 - 0s - loss: 13.3695 - val_loss: 107.5083\n",
      "Epoch 232/300\n",
      "23/23 - 0s - loss: 13.3912 - val_loss: 100.2873\n",
      "Epoch 233/300\n",
      "23/23 - 0s - loss: 13.1346 - val_loss: 102.6490\n",
      "Epoch 234/300\n",
      "23/23 - 0s - loss: 12.9481 - val_loss: 105.1612\n",
      "Epoch 235/300\n",
      "23/23 - 0s - loss: 13.1772 - val_loss: 113.3576\n",
      "Epoch 236/300\n",
      "23/23 - 0s - loss: 13.1398 - val_loss: 115.0278\n",
      "Epoch 237/300\n",
      "23/23 - 0s - loss: 13.1613 - val_loss: 101.4939\n",
      "Epoch 238/300\n",
      "23/23 - 0s - loss: 12.8341 - val_loss: 110.3420\n",
      "Epoch 239/300\n",
      "23/23 - 0s - loss: 12.9124 - val_loss: 111.1237\n",
      "Epoch 240/300\n",
      "23/23 - 0s - loss: 12.6178 - val_loss: 102.5255\n",
      "Epoch 241/300\n",
      "23/23 - 0s - loss: 13.1471 - val_loss: 110.6453\n",
      "Epoch 242/300\n",
      "23/23 - 0s - loss: 12.8803 - val_loss: 100.9618\n",
      "Epoch 243/300\n",
      "23/23 - 0s - loss: 12.4390 - val_loss: 110.0243\n",
      "Epoch 244/300\n",
      "23/23 - 0s - loss: 12.6303 - val_loss: 104.5687\n",
      "Epoch 245/300\n",
      "23/23 - 0s - loss: 13.0006 - val_loss: 120.2738\n",
      "Epoch 246/300\n",
      "23/23 - 0s - loss: 13.5109 - val_loss: 121.6740\n",
      "Epoch 247/300\n",
      "23/23 - 0s - loss: 12.9244 - val_loss: 111.7139\n",
      "Epoch 248/300\n",
      "23/23 - 0s - loss: 12.4338 - val_loss: 102.8808\n",
      "Epoch 249/300\n",
      "23/23 - 0s - loss: 12.6159 - val_loss: 106.0888\n",
      "Epoch 250/300\n",
      "23/23 - 0s - loss: 12.5154 - val_loss: 117.1420\n",
      "Epoch 251/300\n",
      "23/23 - 0s - loss: 12.6963 - val_loss: 114.2736\n",
      "Epoch 252/300\n",
      "23/23 - 0s - loss: 12.8595 - val_loss: 109.5015\n",
      "Epoch 253/300\n",
      "23/23 - 0s - loss: 12.7899 - val_loss: 110.3770\n",
      "Epoch 254/300\n",
      "23/23 - 0s - loss: 12.6307 - val_loss: 120.9478\n",
      "Epoch 255/300\n",
      "23/23 - 0s - loss: 12.4444 - val_loss: 118.0098\n",
      "Epoch 256/300\n",
      "23/23 - 0s - loss: 12.6805 - val_loss: 119.1644\n",
      "Epoch 257/300\n",
      "23/23 - 0s - loss: 12.8615 - val_loss: 110.7334\n",
      "Epoch 258/300\n",
      "23/23 - 0s - loss: 12.3921 - val_loss: 114.1455\n",
      "Epoch 259/300\n",
      "23/23 - 0s - loss: 12.3703 - val_loss: 107.1002\n",
      "Epoch 260/300\n",
      "23/23 - 0s - loss: 13.1625 - val_loss: 122.0118\n",
      "Epoch 261/300\n",
      "23/23 - 0s - loss: 12.4038 - val_loss: 109.9674\n",
      "Epoch 262/300\n",
      "23/23 - 0s - loss: 12.4297 - val_loss: 115.3126\n",
      "Epoch 263/300\n",
      "23/23 - 0s - loss: 12.1882 - val_loss: 112.1689\n",
      "Epoch 264/300\n",
      "23/23 - 0s - loss: 12.0525 - val_loss: 112.3112\n",
      "Epoch 265/300\n",
      "23/23 - 0s - loss: 12.4638 - val_loss: 115.1346\n",
      "Epoch 266/300\n",
      "23/23 - 0s - loss: 12.2185 - val_loss: 113.7030\n",
      "Epoch 267/300\n",
      "23/23 - 0s - loss: 12.2047 - val_loss: 113.5502\n",
      "Epoch 268/300\n",
      "23/23 - 0s - loss: 12.0501 - val_loss: 108.5390\n"
     ]
    },
    {
     "name": "stdout",
     "output_type": "stream",
     "text": [
      "Epoch 269/300\n",
      "23/23 - 0s - loss: 12.3171 - val_loss: 114.9820\n",
      "Epoch 270/300\n",
      "23/23 - 0s - loss: 12.0863 - val_loss: 117.8560\n",
      "Epoch 271/300\n",
      "23/23 - 0s - loss: 12.1779 - val_loss: 120.2363\n",
      "Epoch 272/300\n",
      "23/23 - 0s - loss: 12.3543 - val_loss: 112.0290\n",
      "Epoch 273/300\n",
      "23/23 - 0s - loss: 12.2323 - val_loss: 119.2156\n",
      "Epoch 274/300\n",
      "23/23 - 0s - loss: 12.4167 - val_loss: 121.3458\n",
      "Epoch 275/300\n",
      "23/23 - 0s - loss: 11.7957 - val_loss: 110.5208\n",
      "Epoch 276/300\n",
      "23/23 - 0s - loss: 12.9852 - val_loss: 107.1720\n",
      "Epoch 277/300\n",
      "23/23 - 0s - loss: 12.0450 - val_loss: 108.7708\n",
      "Epoch 278/300\n",
      "23/23 - 0s - loss: 12.3038 - val_loss: 109.9531\n",
      "Epoch 279/300\n",
      "23/23 - 0s - loss: 12.2580 - val_loss: 114.6381\n",
      "Epoch 280/300\n",
      "23/23 - 0s - loss: 11.7416 - val_loss: 106.1411\n",
      "Epoch 281/300\n",
      "23/23 - 0s - loss: 12.0513 - val_loss: 103.5658\n",
      "Epoch 282/300\n",
      "23/23 - 0s - loss: 12.0613 - val_loss: 110.9920\n",
      "Epoch 283/300\n",
      "23/23 - 0s - loss: 11.7747 - val_loss: 117.2818\n",
      "Epoch 284/300\n",
      "23/23 - 0s - loss: 11.8971 - val_loss: 108.5600\n",
      "Epoch 285/300\n",
      "23/23 - 0s - loss: 11.7325 - val_loss: 122.7378\n",
      "Epoch 286/300\n",
      "23/23 - 0s - loss: 11.9585 - val_loss: 112.9685\n",
      "Epoch 287/300\n",
      "23/23 - 0s - loss: 12.0126 - val_loss: 116.2865\n",
      "Epoch 288/300\n",
      "23/23 - 0s - loss: 11.7174 - val_loss: 113.6643\n",
      "Epoch 289/300\n",
      "23/23 - 0s - loss: 11.6728 - val_loss: 118.1239\n",
      "Epoch 290/300\n",
      "23/23 - 0s - loss: 12.1659 - val_loss: 121.3436\n",
      "Epoch 291/300\n",
      "23/23 - 0s - loss: 12.1568 - val_loss: 117.7170\n",
      "Epoch 292/300\n",
      "23/23 - 0s - loss: 12.0441 - val_loss: 122.7100\n",
      "Epoch 293/300\n",
      "23/23 - 0s - loss: 12.2017 - val_loss: 106.1848\n",
      "Epoch 294/300\n",
      "23/23 - 0s - loss: 12.0045 - val_loss: 118.2234\n",
      "Epoch 295/300\n",
      "23/23 - 0s - loss: 11.6571 - val_loss: 103.8773\n",
      "Epoch 296/300\n",
      "23/23 - 0s - loss: 11.9646 - val_loss: 128.4299\n",
      "Epoch 297/300\n",
      "23/23 - 0s - loss: 12.0941 - val_loss: 111.2087\n",
      "Epoch 298/300\n",
      "23/23 - 0s - loss: 11.9485 - val_loss: 112.3743\n",
      "Epoch 299/300\n",
      "23/23 - 0s - loss: 11.6989 - val_loss: 119.4273\n",
      "Epoch 300/300\n",
      "23/23 - 0s - loss: 11.8485 - val_loss: 116.8783\n"
     ]
    },
    {
     "data": {
      "text/plain": [
       "<tensorflow.python.keras.callbacks.History at 0x7fb8f41c7890>"
      ]
     },
     "execution_count": 15,
     "metadata": {},
     "output_type": "execute_result"
    }
   ],
   "source": [
    "# fit the model\n",
    "model.fit(predictors_norm, target, validation_split=0.3, epochs=300, verbose=2)"
   ]
  },
  {
   "cell_type": "markdown",
   "metadata": {
    "button": false,
    "new_sheet": false,
    "run_control": {
     "read_only": false
    }
   },
   "source": [
    "<strong>You can refer to this [link](https://keras.io/models/sequential?cm_mmc=Email_Newsletter-_-Developer_Ed%2BTech-_-WW_WW-_-SkillsNetwork-Courses-IBMDeveloperSkillsNetwork-DL0101EN-SkillsNetwork-20718188&cm_mmca1=000026UJ&cm_mmca2=10006555&cm_mmca3=M12345678&cvosrc=email.Newsletter.M12345678&cvo_campaign=000026UJ&cm_mmc=Email_Newsletter-_-Developer_Ed%2BTech-_-WW_WW-_-SkillsNetwork-Courses-IBMDeveloperSkillsNetwork-DL0101EN-SkillsNetwork-20718188&cm_mmca1=000026UJ&cm_mmca2=10006555&cm_mmca3=M12345678&cvosrc=email.Newsletter.M12345678&cvo_campaign=000026UJ&cm_mmc=Email_Newsletter-_-Developer_Ed%2BTech-_-WW_WW-_-SkillsNetwork-Courses-IBMDeveloperSkillsNetwork-DL0101EN-SkillsNetwork-20718188&cm_mmca1=000026UJ&cm_mmca2=10006555&cm_mmca3=M12345678&cvosrc=email.Newsletter.M12345678&cvo_campaign=000026UJ) to learn about other functions that you can use for prediction or evaluation.</strong>\n"
   ]
  },
  {
   "cell_type": "markdown",
   "metadata": {
    "button": false,
    "new_sheet": false,
    "run_control": {
     "read_only": false
    }
   },
   "source": [
    "Feel free to vary the following and note what impact each change has on the model's performance:\n",
    "\n",
    "1.  Increase or decreate number of neurons in hidden layers\n",
    "2.  Add more hidden layers\n",
    "3.  Increase number of epochs\n"
   ]
  },
  {
   "cell_type": "markdown",
   "metadata": {
    "button": false,
    "new_sheet": false,
    "run_control": {
     "read_only": false
    }
   },
   "source": [
    "### Thank you for completing this lab!\n",
    "\n",
    "This notebook was created by [Alex Aklson](https://www.linkedin.com/in/aklson?cm_mmc=Email_Newsletter-_-Developer_Ed%2BTech-_-WW_WW-_-SkillsNetwork-Courses-IBMDeveloperSkillsNetwork-DL0101EN-SkillsNetwork-20718188&cm_mmca1=000026UJ&cm_mmca2=10006555&cm_mmca3=M12345678&cvosrc=email.Newsletter.M12345678&cvo_campaign=000026UJ&cm_mmc=Email_Newsletter-_-Developer_Ed%2BTech-_-WW_WW-_-SkillsNetwork-Courses-IBMDeveloperSkillsNetwork-DL0101EN-SkillsNetwork-20718188&cm_mmca1=000026UJ&cm_mmca2=10006555&cm_mmca3=M12345678&cvosrc=email.Newsletter.M12345678&cvo_campaign=000026UJ). I hope you found this lab interesting and educational. Feel free to contact me if you have any questions!\n"
   ]
  },
  {
   "cell_type": "markdown",
   "metadata": {},
   "source": [
    "## Change Log\n",
    "\n",
    "| Date (YYYY-MM-DD) | Version | Changed By | Change Description                                          |\n",
    "| ----------------- | ------- | ---------- | ----------------------------------------------------------- |\n",
    "| 2020-09-21        | 2.0     | Srishti    | Migrated Lab to Markdown and added to course repo in GitLab |\n",
    "\n",
    "<hr>\n",
    "\n",
    "## <h3 align=\"center\"> © IBM Corporation 2020. All rights reserved. <h3/>\n"
   ]
  },
  {
   "cell_type": "markdown",
   "metadata": {
    "button": false,
    "new_sheet": false,
    "run_control": {
     "read_only": false
    }
   },
   "source": [
    "This notebook is part of a course on **Coursera** called _Introduction to Deep Learning & Neural Networks with Keras_. If you accessed this notebook outside the course, you can take this course online by clicking [here](https://cocl.us/DL0101EN_Coursera_Week3_LAB1).\n"
   ]
  },
  {
   "cell_type": "markdown",
   "metadata": {
    "button": false,
    "new_sheet": false,
    "run_control": {
     "read_only": false
    }
   },
   "source": [
    "<hr>\n",
    "\n",
    "Copyright © 2019 [IBM Developer Skills Network](https://cognitiveclass.ai?utm_source=bducopyrightlink&utm_medium=dswb&utm_campaign=bdu&cm_mmc=Email_Newsletter-_-Developer_Ed%2BTech-_-WW_WW-_-SkillsNetwork-Courses-IBMDeveloperSkillsNetwork-DL0101EN-SkillsNetwork-20718188&cm_mmca1=000026UJ&cm_mmca2=10006555&cm_mmca3=M12345678&cvosrc=email.Newsletter.M12345678&cvo_campaign=000026UJ&cm_mmc=Email_Newsletter-_-Developer_Ed%2BTech-_-WW_WW-_-SkillsNetwork-Courses-IBMDeveloperSkillsNetwork-DL0101EN-SkillsNetwork-20718188&cm_mmca1=000026UJ&cm_mmca2=10006555&cm_mmca3=M12345678&cvosrc=email.Newsletter.M12345678&cvo_campaign=000026UJ&cm_mmc=Email_Newsletter-_-Developer_Ed%2BTech-_-WW_WW-_-SkillsNetwork-Courses-IBMDeveloperSkillsNetwork-DL0101EN-SkillsNetwork-20718188&cm_mmca1=000026UJ&cm_mmca2=10006555&cm_mmca3=M12345678&cvosrc=email.Newsletter.M12345678&cvo_campaign=000026UJ&cm_mmc=Email_Newsletter-_-Developer_Ed%2BTech-_-WW_WW-_-SkillsNetwork-Courses-IBMDeveloperSkillsNetwork-DL0101EN-SkillsNetwork-20718188&cm_mmca1=000026UJ&cm_mmca2=10006555&cm_mmca3=M12345678&cvosrc=email.Newsletter.M12345678&cvo_campaign=000026UJ). This notebook and its source code are released under the terms of the [MIT License](https://bigdatauniversity.com/mit-license?cm_mmc=Email_Newsletter-_-Developer_Ed%2BTech-_-WW_WW-_-SkillsNetwork-Courses-IBMDeveloperSkillsNetwork-DL0101EN-SkillsNetwork-20718188&cm_mmca1=000026UJ&cm_mmca2=10006555&cm_mmca3=M12345678&cvosrc=email.Newsletter.M12345678&cvo_campaign=000026UJ&cm_mmc=Email_Newsletter-_-Developer_Ed%2BTech-_-WW_WW-_-SkillsNetwork-Courses-IBMDeveloperSkillsNetwork-DL0101EN-SkillsNetwork-20718188&cm_mmca1=000026UJ&cm_mmca2=10006555&cm_mmca3=M12345678&cvosrc=email.Newsletter.M12345678&cvo_campaign=000026UJ).\n"
   ]
  }
 ],
 "metadata": {
  "kernelspec": {
   "display_name": "Python 3",
   "language": "python",
   "name": "python3"
  },
  "language_info": {
   "codemirror_mode": {
    "name": "ipython",
    "version": 3
   },
   "file_extension": ".py",
   "mimetype": "text/x-python",
   "name": "python",
   "nbconvert_exporter": "python",
   "pygments_lexer": "ipython3",
   "version": "3.7.6"
  }
 },
 "nbformat": 4,
 "nbformat_minor": 4
}
